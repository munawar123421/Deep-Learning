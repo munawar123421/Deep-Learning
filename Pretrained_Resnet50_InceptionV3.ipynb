{
  "nbformat": 4,
  "nbformat_minor": 0,
  "metadata": {
    "colab": {
      "provenance": [],
      "gpuType": "T4"
    },
    "kernelspec": {
      "name": "python3",
      "display_name": "Python 3"
    },
    "language_info": {
      "name": "python"
    },
    "accelerator": "GPU"
  },
  "cells": [
    {
      "cell_type": "markdown",
      "source": [
        "Resnet50 Pre-trained model\n"
      ],
      "metadata": {
        "id": "3EePMVPKG6Ie"
      }
    },
    {
      "cell_type": "code",
      "source": [
        "import tensorflow as tf\n",
        "from tensorflow.keras.applications import ResNet50\n",
        "from tensorflow.keras.applications.resnet50 import preprocess_input, decode_predictions\n",
        "from tensorflow.keras.preprocessing import image\n",
        "import numpy as np\n",
        "\n",
        "# ----------------------------\n",
        "# 1. Load Pretrained ResNet50\n",
        "# ----------------------------\n",
        "model = ResNet50(weights='imagenet', include_top=True)\n",
        "\n",
        "# ----------------------------\n",
        "# 2. Load and Preprocess Local Image\n",
        "# ----------------------------\n",
        "img_path = \"elephant.jpg\"   # ✅ local file in Colab working directory\n",
        "\n",
        "img = image.load_img(img_path, target_size=(224, 224))  # resize to ResNet50 input\n",
        "x = image.img_to_array(img)                             # convert to array\n",
        "x = np.expand_dims(x, axis=0)                           # add batch dimension\n",
        "x = preprocess_input(x)                                 # preprocess for ResNet50\n",
        "\n",
        "# ----------------------------\n",
        "# 3. Make Predictions\n",
        "# ----------------------------\n",
        "preds = model.predict(x)\n",
        "print(\"Predicted:\", decode_predictions(preds, top=3)[0])\n"
      ],
      "metadata": {
        "colab": {
          "base_uri": "https://localhost:8080/"
        },
        "id": "sUzkD18zB-ic",
        "outputId": "2f6b319f-0420-487f-93d6-09a4e35744e8"
      },
      "execution_count": 6,
      "outputs": [
        {
          "output_type": "stream",
          "name": "stdout",
          "text": [
            "\u001b[1m1/1\u001b[0m \u001b[32m━━━━━━━━━━━━━━━━━━━━\u001b[0m\u001b[37m\u001b[0m \u001b[1m6s\u001b[0m 6s/step\n",
            "Downloading data from https://storage.googleapis.com/download.tensorflow.org/data/imagenet_class_index.json\n",
            "\u001b[1m35363/35363\u001b[0m \u001b[32m━━━━━━━━━━━━━━━━━━━━\u001b[0m\u001b[37m\u001b[0m \u001b[1m0s\u001b[0m 0us/step\n",
            "Predicted: [('n01871265', 'tusker', np.float32(0.84940773)), ('n02504458', 'African_elephant', np.float32(0.09545354)), ('n02504013', 'Indian_elephant', np.float32(0.037755974))]\n"
          ]
        }
      ]
    },
    {
      "cell_type": "markdown",
      "source": [
        "RESNET50 VS INCEPTIONV3\n"
      ],
      "metadata": {
        "id": "8Vlaku8qGy5m"
      }
    },
    {
      "cell_type": "code",
      "source": [
        "import tensorflow as tf\n",
        "from tensorflow.keras.applications import ResNet50, InceptionV3\n",
        "from tensorflow.keras.applications.resnet50 import preprocess_input as resnet_pre, decode_predictions as resnet_dec\n",
        "from tensorflow.keras.applications.inception_v3 import preprocess_input as inc_pre, decode_predictions as inc_dec\n",
        "from tensorflow.keras.preprocessing import image\n",
        "import numpy as np\n",
        "\n",
        "# Load models\n",
        "resnet = ResNet50(weights='imagenet', include_top=True)\n",
        "inception = InceptionV3(weights='imagenet', include_top=True)\n",
        "\n",
        "# Function to process and predict\n",
        "def predict(model, preprocess, decode, img_path, target_size):\n",
        "    img = image.load_img(img_path, target_size=target_size)   # ✅ match model input size\n",
        "    x = image.img_to_array(img)\n",
        "    x = np.expand_dims(x, 0)\n",
        "    x = preprocess(x)\n",
        "    preds = model.predict(x)\n",
        "    return decode(preds, top=3)[0]\n",
        "\n",
        "img_path = \"elephant.jpg\"\n",
        "\n",
        "# ResNet50 → 224x224\n",
        "print(\"ResNet50 Predictions:\", predict(resnet, resnet_pre, resnet_dec, img_path, (224,224)))\n",
        "\n",
        "# InceptionV3 → 299x299\n",
        "print(\"InceptionV3 Predictions:\", predict(inception, inc_pre, inc_dec, img_path, (299,299)))\n"
      ],
      "metadata": {
        "colab": {
          "base_uri": "https://localhost:8080/"
        },
        "id": "9vnOVGgSEmcI",
        "outputId": "8c0e8419-a168-4ea8-d012-b92c315051aa"
      },
      "execution_count": 8,
      "outputs": [
        {
          "output_type": "stream",
          "name": "stdout",
          "text": [
            "\u001b[1m1/1\u001b[0m \u001b[32m━━━━━━━━━━━━━━━━━━━━\u001b[0m\u001b[37m\u001b[0m \u001b[1m4s\u001b[0m 4s/step\n",
            "ResNet50 Predictions: [('n01871265', 'tusker', np.float32(0.84940773)), ('n02504458', 'African_elephant', np.float32(0.09545354)), ('n02504013', 'Indian_elephant', np.float32(0.037755974))]\n",
            "\u001b[1m1/1\u001b[0m \u001b[32m━━━━━━━━━━━━━━━━━━━━\u001b[0m\u001b[37m\u001b[0m \u001b[1m8s\u001b[0m 8s/step\n",
            "InceptionV3 Predictions: [('n01871265', 'tusker', np.float32(0.7772715)), ('n02504458', 'African_elephant', np.float32(0.14492546)), ('n02504013', 'Indian_elephant', np.float32(0.009661739))]\n"
          ]
        }
      ]
    }
  ]
}