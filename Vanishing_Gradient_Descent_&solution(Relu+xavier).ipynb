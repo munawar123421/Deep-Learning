{
  "nbformat": 4,
  "nbformat_minor": 0,
  "metadata": {
    "colab": {
      "provenance": [],
      "gpuType": "T4"
    },
    "kernelspec": {
      "name": "python3",
      "display_name": "Python 3"
    },
    "language_info": {
      "name": "python"
    },
    "accelerator": "GPU"
  },
  "cells": [
    {
      "cell_type": "markdown",
      "source": [
        "**Problem with vanishing gradient descent**\n",
        "\n"
      ],
      "metadata": {
        "id": "lRUw193eUZXJ"
      }
    },
    {
      "cell_type": "code",
      "execution_count": 1,
      "metadata": {
        "colab": {
          "base_uri": "https://localhost:8080/"
        },
        "id": "T45b13FHSJGM",
        "outputId": "23612e74-e6ee-454f-e031-31a75f0998db"
      },
      "outputs": [
        {
          "output_type": "stream",
          "name": "stdout",
          "text": [
            "Downloading data from https://storage.googleapis.com/tensorflow/tf-keras-datasets/mnist.npz\n",
            "\u001b[1m11490434/11490434\u001b[0m \u001b[32m━━━━━━━━━━━━━━━━━━━━\u001b[0m\u001b[37m\u001b[0m \u001b[1m0s\u001b[0m 0us/step\n",
            "Training model with sigmoid (vanishing gradient issue)...\n",
            "Epoch 1/10\n",
            "\u001b[1m469/469\u001b[0m \u001b[32m━━━━━━━━━━━━━━━━━━━━\u001b[0m\u001b[37m\u001b[0m \u001b[1m5s\u001b[0m 7ms/step - accuracy: 0.1016 - loss: 2.3309 - val_accuracy: 0.1135 - val_loss: 2.3011\n",
            "Epoch 2/10\n",
            "\u001b[1m469/469\u001b[0m \u001b[32m━━━━━━━━━━━━━━━━━━━━\u001b[0m\u001b[37m\u001b[0m \u001b[1m2s\u001b[0m 4ms/step - accuracy: 0.1127 - loss: 2.3015 - val_accuracy: 0.1135 - val_loss: 2.3011\n",
            "Epoch 3/10\n",
            "\u001b[1m469/469\u001b[0m \u001b[32m━━━━━━━━━━━━━━━━━━━━\u001b[0m\u001b[37m\u001b[0m \u001b[1m2s\u001b[0m 3ms/step - accuracy: 0.1127 - loss: 2.3015 - val_accuracy: 0.1135 - val_loss: 2.3011\n",
            "Epoch 4/10\n",
            "\u001b[1m469/469\u001b[0m \u001b[32m━━━━━━━━━━━━━━━━━━━━\u001b[0m\u001b[37m\u001b[0m \u001b[1m3s\u001b[0m 4ms/step - accuracy: 0.1127 - loss: 2.3015 - val_accuracy: 0.1135 - val_loss: 2.3011\n",
            "Epoch 5/10\n",
            "\u001b[1m469/469\u001b[0m \u001b[32m━━━━━━━━━━━━━━━━━━━━\u001b[0m\u001b[37m\u001b[0m \u001b[1m2s\u001b[0m 3ms/step - accuracy: 0.1127 - loss: 2.3015 - val_accuracy: 0.1135 - val_loss: 2.3011\n",
            "Epoch 6/10\n",
            "\u001b[1m469/469\u001b[0m \u001b[32m━━━━━━━━━━━━━━━━━━━━\u001b[0m\u001b[37m\u001b[0m \u001b[1m1s\u001b[0m 3ms/step - accuracy: 0.1127 - loss: 2.3015 - val_accuracy: 0.1135 - val_loss: 2.3011\n",
            "Epoch 7/10\n",
            "\u001b[1m469/469\u001b[0m \u001b[32m━━━━━━━━━━━━━━━━━━━━\u001b[0m\u001b[37m\u001b[0m \u001b[1m3s\u001b[0m 3ms/step - accuracy: 0.1127 - loss: 2.3015 - val_accuracy: 0.1135 - val_loss: 2.3011\n",
            "Epoch 8/10\n",
            "\u001b[1m469/469\u001b[0m \u001b[32m━━━━━━━━━━━━━━━━━━━━\u001b[0m\u001b[37m\u001b[0m \u001b[1m3s\u001b[0m 3ms/step - accuracy: 0.1127 - loss: 2.3015 - val_accuracy: 0.1135 - val_loss: 2.3011\n",
            "Epoch 9/10\n",
            "\u001b[1m469/469\u001b[0m \u001b[32m━━━━━━━━━━━━━━━━━━━━\u001b[0m\u001b[37m\u001b[0m \u001b[1m3s\u001b[0m 4ms/step - accuracy: 0.1127 - loss: 2.3015 - val_accuracy: 0.1135 - val_loss: 2.3011\n",
            "Epoch 10/10\n",
            "\u001b[1m469/469\u001b[0m \u001b[32m━━━━━━━━━━━━━━━━━━━━\u001b[0m\u001b[37m\u001b[0m \u001b[1m2s\u001b[0m 4ms/step - accuracy: 0.1127 - loss: 2.3015 - val_accuracy: 0.1135 - val_loss: 2.3011\n"
          ]
        }
      ],
      "source": [
        "import tensorflow as tf\n",
        "from tensorflow import keras\n",
        "import numpy as np\n",
        "import matplotlib.pyplot as plt\n",
        "\n",
        "# Set random seeds for reproducibility\n",
        "tf.random.set_seed(42)\n",
        "np.random.seed(42)\n",
        "\n",
        "# Load dataset (MNIST for simplicity)\n",
        "(x_train, y_train), (x_test, y_test) = keras.datasets.mnist.load_data()\n",
        "x_train = x_train.reshape(-1, 28*28).astype('float32') / 255.0\n",
        "x_test = x_test.reshape(-1, 28*28).astype('float32') / 255.0\n",
        "\n",
        "# Build a deep model with sigmoid activation and poor initialization\n",
        "def create_vanishing_model():\n",
        "    model = keras.Sequential()\n",
        "    model.add(keras.layers.Input(shape=(784,)))\n",
        "\n",
        "    # Deep layers with sigmoid activation and default initialization (can cause vanishing gradients)\n",
        "    for _ in range(10):\n",
        "        model.add(keras.layers.Dense(32, activation='sigmoid'))\n",
        "\n",
        "    model.add(keras.layers.Dense(10, activation='softmax'))\n",
        "    return model\n",
        "\n",
        "# Compile model\n",
        "vanishing_model = create_vanishing_model()\n",
        "vanishing_model.compile(\n",
        "    optimizer=keras.optimizers.SGD(learning_rate=0.01),\n",
        "    loss='sparse_categorical_crossentropy',\n",
        "    metrics=['accuracy']\n",
        ")\n",
        "\n",
        "# Train model\n",
        "print(\"Training model with sigmoid (vanishing gradient issue)...\")\n",
        "history_vanishing = vanishing_model.fit(\n",
        "    x_train, y_train,\n",
        "    epochs=10,\n",
        "    batch_size=128,\n",
        "    validation_data=(x_test, y_test),\n",
        "    verbose=1\n",
        ")"
      ]
    },
    {
      "cell_type": "markdown",
      "source": [
        "**Solution Using ReLU + He initialization for Relu for normalization + Xavier**"
      ],
      "metadata": {
        "id": "3GDbpxjFU7w_"
      }
    },
    {
      "cell_type": "code",
      "source": [
        "# Build a corrected deep model using ReLU + He initialization\n",
        "def create_solved_model():\n",
        "    model = keras.Sequential()\n",
        "    model.add(keras.layers.Input(shape=(784,)))\n",
        "\n",
        "    # Use He initialization (recommended for ReLU)\n",
        "    initializer = keras.initializers.HeNormal()  # He initialization\n",
        "\n",
        "    for _ in range(10):\n",
        "        model.add(keras.layers.Dense(\n",
        "            32,\n",
        "            activation='relu',\n",
        "            kernel_initializer=initializer   # He init for ReLU\n",
        "        ))\n",
        "\n",
        "    model.add(keras.layers.Dense(10, activation='softmax'))\n",
        "    return model\n",
        "\n",
        "# Create and compile the fixed model\n",
        "solved_model = create_solved_model()\n",
        "solved_model.compile(\n",
        "    optimizer=keras.optimizers.SGD(learning_rate=0.01),\n",
        "    loss='sparse_categorical_crossentropy',\n",
        "    metrics=['accuracy']\n",
        ")\n",
        "\n",
        "# Train the improved model\n",
        "print(\"\\nTraining model with ReLU + He initialization (fixed)...\")\n",
        "history_solved = solved_model.fit(\n",
        "    x_train, y_train,\n",
        "    epochs=10,\n",
        "    batch_size=128,\n",
        "    validation_data=(x_test, y_test),\n",
        "    verbose=1\n",
        ")"
      ],
      "metadata": {
        "id": "ivKoGb3NUN3L",
        "outputId": "6629dbb8-2e63-4525-c0ee-f73fe775cd52",
        "colab": {
          "base_uri": "https://localhost:8080/"
        }
      },
      "execution_count": 2,
      "outputs": [
        {
          "output_type": "stream",
          "name": "stdout",
          "text": [
            "\n",
            "Training model with ReLU + He initialization (fixed)...\n",
            "Epoch 1/10\n",
            "\u001b[1m469/469\u001b[0m \u001b[32m━━━━━━━━━━━━━━━━━━━━\u001b[0m\u001b[37m\u001b[0m \u001b[1m4s\u001b[0m 7ms/step - accuracy: 0.4684 - loss: 1.5449 - val_accuracy: 0.8417 - val_loss: 0.5246\n",
            "Epoch 2/10\n",
            "\u001b[1m469/469\u001b[0m \u001b[32m━━━━━━━━━━━━━━━━━━━━\u001b[0m\u001b[37m\u001b[0m \u001b[1m3s\u001b[0m 3ms/step - accuracy: 0.8791 - loss: 0.4113 - val_accuracy: 0.9045 - val_loss: 0.3278\n",
            "Epoch 3/10\n",
            "\u001b[1m469/469\u001b[0m \u001b[32m━━━━━━━━━━━━━━━━━━━━\u001b[0m\u001b[37m\u001b[0m \u001b[1m1s\u001b[0m 3ms/step - accuracy: 0.9141 - loss: 0.2938 - val_accuracy: 0.9210 - val_loss: 0.2684\n",
            "Epoch 4/10\n",
            "\u001b[1m469/469\u001b[0m \u001b[32m━━━━━━━━━━━━━━━━━━━━\u001b[0m\u001b[37m\u001b[0m \u001b[1m2s\u001b[0m 4ms/step - accuracy: 0.9274 - loss: 0.2457 - val_accuracy: 0.9332 - val_loss: 0.2281\n",
            "Epoch 5/10\n",
            "\u001b[1m469/469\u001b[0m \u001b[32m━━━━━━━━━━━━━━━━━━━━\u001b[0m\u001b[37m\u001b[0m \u001b[1m1s\u001b[0m 3ms/step - accuracy: 0.9366 - loss: 0.2159 - val_accuracy: 0.9366 - val_loss: 0.2106\n",
            "Epoch 6/10\n",
            "\u001b[1m469/469\u001b[0m \u001b[32m━━━━━━━━━━━━━━━━━━━━\u001b[0m\u001b[37m\u001b[0m \u001b[1m1s\u001b[0m 3ms/step - accuracy: 0.9420 - loss: 0.1949 - val_accuracy: 0.9406 - val_loss: 0.1970\n",
            "Epoch 7/10\n",
            "\u001b[1m469/469\u001b[0m \u001b[32m━━━━━━━━━━━━━━━━━━━━\u001b[0m\u001b[37m\u001b[0m \u001b[1m3s\u001b[0m 3ms/step - accuracy: 0.9473 - loss: 0.1789 - val_accuracy: 0.9425 - val_loss: 0.1910\n",
            "Epoch 8/10\n",
            "\u001b[1m469/469\u001b[0m \u001b[32m━━━━━━━━━━━━━━━━━━━━\u001b[0m\u001b[37m\u001b[0m \u001b[1m3s\u001b[0m 3ms/step - accuracy: 0.9507 - loss: 0.1655 - val_accuracy: 0.9449 - val_loss: 0.1856\n",
            "Epoch 9/10\n",
            "\u001b[1m469/469\u001b[0m \u001b[32m━━━━━━━━━━━━━━━━━━━━\u001b[0m\u001b[37m\u001b[0m \u001b[1m3s\u001b[0m 3ms/step - accuracy: 0.9549 - loss: 0.1552 - val_accuracy: 0.9461 - val_loss: 0.1823\n",
            "Epoch 10/10\n",
            "\u001b[1m469/469\u001b[0m \u001b[32m━━━━━━━━━━━━━━━━━━━━\u001b[0m\u001b[37m\u001b[0m \u001b[1m2s\u001b[0m 4ms/step - accuracy: 0.9581 - loss: 0.1458 - val_accuracy: 0.9473 - val_loss: 0.1773\n"
          ]
        }
      ]
    },
    {
      "cell_type": "code",
      "source": [
        "# Plot accuracy comparison\n",
        "plt.figure(figsize=(12, 4))\n",
        "\n",
        "plt.subplot(1, 2, 1)\n",
        "plt.plot(history_vanishing.history['accuracy'], label='Sigmoid (Vanishing)')\n",
        "plt.plot(history_solved.history['accuracy'], label='ReLU + He Init (Fixed)')\n",
        "plt.title('Training Accuracy')\n",
        "plt.xlabel('Epoch')\n",
        "plt.ylabel('Accuracy')\n",
        "plt.legend()\n",
        "\n",
        "plt.subplot(1, 2, 2)\n",
        "plt.plot(history_vanishing.history['loss'], label='Sigmoid (Vanishing)')\n",
        "plt.plot(history_solved.history['loss'], label='ReLU + He Init (Fixed)')\n",
        "plt.title('Training Loss')\n",
        "plt.xlabel('Epoch')\n",
        "plt.ylabel('Loss')\n",
        "plt.legend()\n",
        "\n",
        "plt.tight_layout()\n",
        "plt.show()"
      ],
      "metadata": {
        "id": "DAC_whaDVe_o",
        "outputId": "2a34321f-b575-4377-e14b-f05c4f9d4271",
        "colab": {
          "base_uri": "https://localhost:8080/",
          "height": 407
        }
      },
      "execution_count": 3,
      "outputs": [
        {
          "output_type": "display_data",
          "data": {
            "text/plain": [
              "<Figure size 1200x400 with 2 Axes>"
            ],
            "image/png": "[encoded data removed]"
          },
          "metadata": {}
        }
      ]
    },
    {
      "cell_type": "markdown",
      "source": [],
      "metadata": {
        "id": "cDmxbFK8UUOZ"
      }
    }
  ]
}